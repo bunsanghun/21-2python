{
  "nbformat": 4,
  "nbformat_minor": 0,
  "metadata": {
    "colab": {
      "name": "Untitled0.ipynb",
      "provenance": [],
      "authorship_tag": "ABX9TyNpNGcteGuvsokd52cslbo+",
      "include_colab_link": true
    },
    "kernelspec": {
      "name": "python3",
      "display_name": "Python 3"
    },
    "language_info": {
      "name": "python"
    }
  },
  "cells": [
    {
      "cell_type": "markdown",
      "metadata": {
        "id": "view-in-github",
        "colab_type": "text"
      },
      "source": [
        "<a href=\"https://colab.research.google.com/github/bunsanghun/21-2python/blob/main/210823.ipynb\" target=\"_parent\"><img src=\"https://colab.research.google.com/assets/colab-badge.svg\" alt=\"Open In Colab\"/></a>"
      ]
    },
    {
      "cell_type": "code",
      "metadata": {
        "id": "LgPgkNrWXHfK"
      },
      "source": [
        ""
      ],
      "execution_count": null,
      "outputs": []
    },
    {
      "cell_type": "markdown",
      "metadata": {
        "id": "5-Ks25gdbTxQ"
      },
      "source": [
        "#학습목표\n",
        "1.파이썬 언어에서 변수의 의미를 이해하기\n",
        "2. 기본 데이터 타입을 선언하기 (int,float,str,bool)"
      ]
    },
    {
      "cell_type": "markdown",
      "metadata": {
        "id": "qEMWex-Qc2hn"
      },
      "source": [
        "### 대입연산자\n",
        "대입의 경우,오른쪽의 수식이나 값을 계산한 뒤,왼쪽 변수에 값을 대입\n",
        "변수는 해당 값을 가지게 된다."
      ]
    },
    {
      "cell_type": "code",
      "metadata": {
        "id": "1qNFj8cMXSD-"
      },
      "source": [
        "a = 10 #int\n",
        "b = 11.4 #float"
      ],
      "execution_count": 1,
      "outputs": []
    },
    {
      "cell_type": "code",
      "metadata": {
        "colab": {
          "base_uri": "https://localhost:8080/"
        },
        "id": "eYEdUqg7eH_r",
        "outputId": "2d6ecc39-8578-430c-846f-66dc5c8e5032"
      },
      "source": [
        " print(a)"
      ],
      "execution_count": 3,
      "outputs": [
        {
          "output_type": "stream",
          "text": [
            "10\n"
          ],
          "name": "stdout"
        }
      ]
    },
    {
      "cell_type": "code",
      "metadata": {
        "id": "HgNwg9caeQoC"
      },
      "source": [
        ""
      ],
      "execution_count": null,
      "outputs": []
    },
    {
      "cell_type": "markdown",
      "metadata": {
        "id": "nlLdVvyYeuuZ"
      },
      "source": [
        "# 주석(comment)\n",
        "* 코드에서 #으로 시작하는 뒤부분은 실행 안함\n",
        "* python이 실행할 때 #만나면 무시\n",
        "*개발자(사람)이 보기 위한 용도로 사용\n",
        "\n"
      ]
    },
    {
      "cell_type": "code",
      "metadata": {
        "id": "BeDkwR8Xfj3a"
      },
      "source": [
        "#수학점수\n",
        "#지우지 마세요\n",
        "\n",
        "math = 11\n",
        "english = 57.8"
      ],
      "execution_count": 4,
      "outputs": []
    },
    {
      "cell_type": "code",
      "metadata": {
        "id": "NnARXunBgIkM"
      },
      "source": [
        ""
      ],
      "execution_count": null,
      "outputs": []
    },
    {
      "cell_type": "markdown",
      "metadata": {
        "id": "Vs6leAEjgJqx"
      },
      "source": [
        "# **print 함수**\n",
        "* 함수란 특정 기능을 반복적으로 호출하여 사용가능한 코드블럭\n",
        "*해당 변수 값이 출력\n",
        "*,로 여러 변수를 나열하면 한줄에 출력\n",
        "*기본적으로는 한칸 띄어쓰기 후출력"
      ]
    },
    {
      "cell_type": "code",
      "metadata": {
        "colab": {
          "base_uri": "https://localhost:8080/"
        },
        "id": "lO8doyY8hG65",
        "outputId": "aa6cc462-72e5-4678-83cf-0074acc718e4"
      },
      "source": [
        "print(a, b)"
      ],
      "execution_count": 6,
      "outputs": [
        {
          "output_type": "stream",
          "text": [
            "10 11.4\n"
          ],
          "name": "stdout"
        }
      ]
    },
    {
      "cell_type": "code",
      "metadata": {
        "colab": {
          "base_uri": "https://localhost:8080/"
        },
        "id": "Qrykan_xhQuT",
        "outputId": "5f17a0d5-ada1-4ea3-d0ec-5adaa05e3531"
      },
      "source": [
        "print(math, english, 20, '변상훈')"
      ],
      "execution_count": 7,
      "outputs": [
        {
          "output_type": "stream",
          "text": [
            "11 57.8 20 변상훈\n"
          ],
          "name": "stdout"
        }
      ]
    },
    {
      "cell_type": "code",
      "metadata": {
        "id": "yzZQrA04hhBe"
      },
      "source": [
        ""
      ],
      "execution_count": null,
      "outputs": []
    },
    {
      "cell_type": "markdown",
      "metadata": {
        "id": "UFqKCe0ohruk"
      },
      "source": [
        "###  **변수 값 확인 방법**\n",
        "1.print() 함수 사용\n",
        "2. 변수 값을 코드의 마지막에 위치 시킨 후 실행\n",
        "\n",
        "        이 경우 output으로 변수의 값이 출력된다."
      ]
    },
    {
      "cell_type": "code",
      "metadata": {
        "colab": {
          "base_uri": "https://localhost:8080/"
        },
        "id": "0fjCCpyRiroz",
        "outputId": "f5503b38-bfae-4677-ddd8-308d304f005d"
      },
      "source": [
        "math\n",
        "english"
      ],
      "execution_count": 9,
      "outputs": [
        {
          "output_type": "execute_result",
          "data": {
            "text/plain": [
              "57.8"
            ]
          },
          "metadata": {},
          "execution_count": 9
        }
      ]
    },
    {
      "cell_type": "code",
      "metadata": {
        "id": "xndSW_qGi2nm"
      },
      "source": [
        ""
      ],
      "execution_count": null,
      "outputs": []
    },
    {
      "cell_type": "markdown",
      "metadata": {
        "id": "fddvFKhojV_h"
      },
      "source": [
        "# **변수 이름 규칙**\n",
        "* 영문 대소문자._, 숫자로 구성 가능\n",
        "      *숫자로 시작은 안된다!\n",
        "* 일반적으로 변수를 표현할 때 정확하고 간결한 이름을 사용하여 쉽게 이해하도록 설정한다.\n",
        "         *예)a= 900 경우보다, hy_student_num = 900 으로 명시하는 것이 이해가 빠르다.\n"
      ]
    },
    {
      "cell_type": "code",
      "metadata": {
        "colab": {
          "base_uri": "https://localhost:8080/",
          "height": 136
        },
        "id": "dtdojPGPlIzV",
        "outputId": "7462f58c-8680-44f1-9e1d-1099622e441e"
      },
      "source": [
        "abAB = 100\n",
        "#4_num = 10숫자로 사정하여 실행안됨\n",
        " ABab = 200\n",
        " _right =800\n"
      ],
      "execution_count": 12,
      "outputs": [
        {
          "output_type": "error",
          "ename": "IndentationError",
          "evalue": "ignored",
          "traceback": [
            "\u001b[0;36m  File \u001b[0;32m\"<ipython-input-12-ac0ef6e04082>\"\u001b[0;36m, line \u001b[0;32m3\u001b[0m\n\u001b[0;31m    ABab = 200\u001b[0m\n\u001b[0m    ^\u001b[0m\n\u001b[0;31mIndentationError\u001b[0m\u001b[0;31m:\u001b[0m unexpected indent\n"
          ]
        }
      ]
    },
    {
      "cell_type": "code",
      "metadata": {
        "colab": {
          "base_uri": "https://localhost:8080/",
          "height": 136
        },
        "id": "mQMP2SljlxzA",
        "outputId": "cc0b7851-32c0-4ba6-b7d9-841ffd9fd125"
      },
      "source": [
        "예약어(키워드)\n",
        "*Python에서 미리 선정하여 사용중인 키워드\n",
        "* 변수,점수,클래스 등 사용자 정의 이름으로 사용할 수 없음"
      ],
      "execution_count": 13,
      "outputs": [
        {
          "output_type": "error",
          "ename": "SyntaxError",
          "evalue": "ignored",
          "traceback": [
            "\u001b[0;36m  File \u001b[0;32m\"<ipython-input-13-f0bf163211f8>\"\u001b[0;36m, line \u001b[0;32m2\u001b[0m\n\u001b[0;31m    *Python에서 미리 선정하여  사용중인 키워드\u001b[0m\n\u001b[0m               ^\u001b[0m\n\u001b[0;31mSyntaxError\u001b[0m\u001b[0;31m:\u001b[0m invalid syntax\n"
          ]
        }
      ]
    },
    {
      "cell_type": "markdown",
      "metadata": {
        "id": "_y-cZlTwnCBB"
      },
      "source": [
        ""
      ]
    },
    {
      "cell_type": "markdown",
      "metadata": {
        "id": "9psQgEhanFiY"
      },
      "source": [
        "#  **예약어(키워드)**\n",
        "*Python에서 미리 선정하여 사용중인 키워드\n",
        "* 변수,점수,클래스 등 사용자 정의 이름으로 사용할 수 없음"
      ]
    },
    {
      "cell_type": "markdown",
      "metadata": {
        "id": "EEwhW8eCm_gs"
      },
      "source": [
        ""
      ]
    },
    {
      "cell_type": "code",
      "metadata": {
        "id": "aLDhRchym3GX"
      },
      "source": [
        "for = 10 #for은 예약어로 변수 사용 불가\n",
        "_for = 100\n",
        "_for ="
      ],
      "execution_count": null,
      "outputs": []
    }
  ]
}