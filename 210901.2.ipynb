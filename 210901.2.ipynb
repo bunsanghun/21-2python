{
  "nbformat": 4,
  "nbformat_minor": 0,
  "metadata": {
    "colab": {
      "name": "Untitled1.ipynb",
      "provenance": [],
      "authorship_tag": "ABX9TyNRo8Xnl5XQ4SYN50FbuMxO",
      "include_colab_link": true
    },
    "kernelspec": {
      "name": "python3",
      "display_name": "Python 3"
    },
    "language_info": {
      "name": "python"
    }
  },
  "cells": [
    {
      "cell_type": "markdown",
      "metadata": {
        "id": "view-in-github",
        "colab_type": "text"
      },
      "source": [
        "<a href=\"https://colab.research.google.com/github/bunsanghun/21-2python/blob/main/210901.2.ipynb\" target=\"_parent\"><img src=\"https://colab.research.google.com/assets/colab-badge.svg\" alt=\"Open In Colab\"/></a>"
      ]
    },
    {
      "cell_type": "code",
      "metadata": {
        "id": "SiYRY1et9G_0"
      },
      "source": [
        ""
      ],
      "execution_count": null,
      "outputs": []
    },
    {
      "cell_type": "markdown",
      "metadata": {
        "id": "9X3--EIP9Hif"
      },
      "source": [
        "# **학습목표**\n",
        "- 반복문의 이해 및 할용\n",
        "- range 함수 이해"
      ]
    },
    {
      "cell_type": "code",
      "metadata": {
        "id": "BdWLCRxP9cbS"
      },
      "source": [
        ""
      ],
      "execution_count": null,
      "outputs": []
    },
    {
      "cell_type": "markdown",
      "metadata": {
        "id": "3IoiP3w-9dvB"
      },
      "source": [
        "# **for 반복문**\n",
        "- 리스트,문자열 등 순회 가능한 것들의 값을 처리할 때 사용\n",
        "- i는 매번 수행될 떄마다 a 안의 값으로 순차적으로 변경이 된다.\n",
        "- 모든 a 안의 값이 수행되면 for문 블록이 종료"
      ]
    },
    {
      "cell_type": "code",
      "metadata": {
        "colab": {
          "base_uri": "https://localhost:8080/",
          "height": 134
        },
        "id": "TmJYGTHC-PnH",
        "outputId": "1a2f0f64-3382-4418-9bcb-1fadf9b55f81"
      },
      "source": [
        "a = [1,2,3,4,5]\n",
        "\n",
        "for i in a:\n",
        "   print(i, i*2)\n",
        "  print('Wni 최종값 :', i)"
      ],
      "execution_count": 4,
      "outputs": [
        {
          "output_type": "error",
          "ename": "IndentationError",
          "evalue": "ignored",
          "traceback": [
            "\u001b[0;36m  File \u001b[0;32m\"<ipython-input-4-5450b6c035da>\"\u001b[0;36m, line \u001b[0;32m5\u001b[0m\n\u001b[0;31m    print('Wni 최종값 :', i)\u001b[0m\n\u001b[0m                         ^\u001b[0m\n\u001b[0;31mIndentationError\u001b[0m\u001b[0;31m:\u001b[0m unindent does not match any outer indentation level\n"
          ]
        }
      ]
    },
    {
      "cell_type": "code",
      "metadata": {
        "colab": {
          "base_uri": "https://localhost:8080/"
        },
        "id": "NhybZ7B0-0yx",
        "outputId": "53fde6a6-19af-414e-f436-5ee18a2642a0"
      },
      "source": [
        "#문자열의 아이템 출력하기\n",
        "\n",
        "for x in 'hello wol[rld' :\n",
        "  print(x)"
      ],
      "execution_count": 5,
      "outputs": [
        {
          "output_type": "stream",
          "name": "stdout",
          "text": [
            "h\n",
            "e\n",
            "l\n",
            "l\n",
            "o\n",
            " \n",
            "w\n",
            "o\n",
            "l\n",
            "[\n",
            "r\n",
            "l\n",
            "d\n"
          ]
        }
      ]
    },
    {
      "cell_type": "code",
      "metadata": {
        "colab": {
          "base_uri": "https://localhost:8080/"
        },
        "id": "-rEJAS-7ABqV",
        "outputId": "fe53a5fa-ead4-4858-e60e-27ce56a78be4"
      },
      "source": [
        "a = [1, 10, 39, 49]\n",
        "\n",
        "for i in a :\n",
        "  if i % 2 == 0 : #짝수\n",
        "    print(i/2)\n",
        "else :\n",
        "   print(i*2)\n"
      ],
      "execution_count": 7,
      "outputs": [
        {
          "output_type": "stream",
          "name": "stdout",
          "text": [
            "5.0\n",
            "98\n"
          ]
        }
      ]
    },
    {
      "cell_type": "code",
      "metadata": {
        "id": "iRPf_vHXAuvp"
      },
      "source": [
        ""
      ],
      "execution_count": null,
      "outputs": []
    },
    {
      "cell_type": "markdown",
      "metadata": {
        "id": "e5fa901GBLXO"
      },
      "source": [
        "### **break**\n",
        "- 특정 조건을 만족할 때 for을 빠져나오기 위해 사용"
      ]
    },
    {
      "cell_type": "code",
      "metadata": {
        "colab": {
          "base_uri": "https://localhost:8080/"
        },
        "id": "F6sE-RohBhSm",
        "outputId": "38f8ffc2-b45f-4308-c1ea-166d435ef32f"
      },
      "source": [
        "#a = [1, 10, 7 ,29, 18]\n",
        "\n",
        "for i in a :\n",
        "  if i >20 :\n",
        "    break\n",
        "\n",
        "\n",
        "print(i)\n"
      ],
      "execution_count": 8,
      "outputs": [
        {
          "output_type": "stream",
          "name": "stdout",
          "text": [
            "39\n"
          ]
        }
      ]
    },
    {
      "cell_type": "code",
      "metadata": {
        "id": "OPvve0bdB9oc"
      },
      "source": [
        ""
      ],
      "execution_count": null,
      "outputs": []
    },
    {
      "cell_type": "markdown",
      "metadata": {
        "id": "Jwor7Q4HCIkf"
      },
      "source": [
        "## **continue**\n",
        "- 해당 아에팀을 건너 뛰고 싶을 때 사용"
      ]
    },
    {
      "cell_type": "code",
      "metadata": {
        "colab": {
          "base_uri": "https://localhost:8080/"
        },
        "id": "jo9eqMMUCYwB",
        "outputId": "c314aca3-04d7-4ffb-a977-b25ca0756181"
      },
      "source": [
        "#a = [3,9,7,29,18]\n",
        "\n",
        "for i in a :\n",
        "  if i>5 and i<20 :\n",
        "     continue\n",
        "  print(i)"
      ],
      "execution_count": 9,
      "outputs": [
        {
          "output_type": "stream",
          "name": "stdout",
          "text": [
            "1\n",
            "39\n",
            "49\n"
          ]
        }
      ]
    },
    {
      "cell_type": "code",
      "metadata": {
        "id": "MAq2AzBNC369"
      },
      "source": [
        ""
      ],
      "execution_count": null,
      "outputs": []
    }
  ]
}