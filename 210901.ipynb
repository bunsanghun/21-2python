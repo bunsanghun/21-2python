{
  "nbformat": 4,
  "nbformat_minor": 0,
  "metadata": {
    "colab": {
      "name": "Untitled1.ipynb",
      "provenance": [],
      "authorship_tag": "ABX9TyMvoPWAOm/rwnh7b6sQ46g3",
      "include_colab_link": true
    },
    "kernelspec": {
      "name": "python3",
      "display_name": "Python 3"
    },
    "language_info": {
      "name": "python"
    }
  },
  "cells": [
    {
      "cell_type": "markdown",
      "metadata": {
        "id": "view-in-github",
        "colab_type": "text"
      },
      "source": [
        "<a href=\"https://colab.research.google.com/github/bunsanghun/21-2python/blob/main/210901.ipynb\" target=\"_parent\"><img src=\"https://colab.research.google.com/assets/colab-badge.svg\" alt=\"Open In Colab\"/></a>"
      ]
    },
    {
      "cell_type": "code",
      "metadata": {
        "id": "oHsaGtCeUZB_"
      },
      "source": [
        "용"
      ],
      "execution_count": null,
      "outputs": []
    },
    {
      "cell_type": "markdown",
      "metadata": {
        "id": "ld9CNrx6eTEm"
      },
      "source": [
        "# **조건문**에 \n",
        "- 특정 조건을 만족하는 경우에 수행할 작업이 있는 경우 사용\n",
        "- 참,거짓 으로 표현된다.\n",
        "- if,elif,else 키워드 사용\n",
        "- 블록(block):들여쓰기 된 코드\n",
        "- 모든 블록의 시작과 마지막에는 :(클론;colon)이 필요"
      ]
    },
    {
      "cell_type": "code",
      "metadata": {
        "colab": {
          "base_uri": "https://localhost:8080/",
          "height": 134
        },
        "id": "BeoCFqsDhqRm",
        "outputId": "f3afb245-4741-42b4-dded-d889b8144b85"
      },
      "source": [
        " if 10>20 #거짓\"\"\"\n",
        " print(\"참입니다.\")\n",
        " print(\"거짓입니다.\")"
      ],
      "execution_count": null,
      "outputs": [
        {
          "output_type": "error",
          "ename": "SyntaxError",
          "evalue": "ignored",
          "traceback": [
            "\u001b[0;36m  File \u001b[0;32m\"<ipython-input-4-baa310d7fcda>\"\u001b[0;36m, line \u001b[0;32m1\u001b[0m\n\u001b[0;31m    if 10>20 #거짓\u001b[0m\n\u001b[0m                ^\u001b[0m\n\u001b[0;31mSyntaxError\u001b[0m\u001b[0;31m:\u001b[0m invalid syntax\n"
          ]
        }
      ]
    },
    {
      "cell_type": "markdown",
      "metadata": {
        "id": "kav53LgzjrKH"
      },
      "source": [
        "### **if,else**\n",
        "- if가 아니느경우, 나머지 조건을 표현하고 싶을 때\n",
        "- if 조건이 참(true)인 경우 if 블록안의 코드가 수행\n",
        "       - 거짓(False)인 경우 else 블록의 코드가 수행\n",
        "- if 와 else 사이에는 다른 코드가 삽입 불가"
      ]
    },
    {
      "cell_type": "markdown",
      "metadata": {
        "id": "Ojl06LnheRqE"
      },
      "source": [
        ""
      ]
    },
    {
      "cell_type": "code",
      "metadata": {
        "id": "MBTcpqlJUmDt",
        "colab": {
          "base_uri": "https://localhost:8080/"
        },
        "outputId": "c8464777-14c9-469b-f6f4-a891d53a79dd"
      },
      "source": [
        "#짝수인 경우 \"짝수!\"를 출력, 홀수인 경우 \"홀수1\"를 출력하는 프로그램을 작성하시오\n",
        "\n",
        "a = 4\n",
        "\n",
        "if a % 2 == 0 : #나머지가 0인경우(참)\n",
        " print ('짝수!')\n",
        "else:\n",
        " print ('홀수1')"
      ],
      "execution_count": 4,
      "outputs": [
        {
          "output_type": "stream",
          "name": "stdout",
          "text": [
            "짝수!\n"
          ]
        }
      ]
    },
    {
      "cell_type": "code",
      "metadata": {
        "id": "cnBaRrWQsuas"
      },
      "source": [
        ""
      ],
      "execution_count": null,
      "outputs": []
    },
    {
      "cell_type": "markdown",
      "metadata": {
        "id": "6REozpbLtN7h"
      },
      "source": [
        "## **if,elif,else**\n",
        "- 조건이 여러개인 경우,elif으로 처리가능\n",
        "- elif의 조건을 확인 후,true인 조건의 코드 블록을 실행"
      ]
    },
    {
      "cell_type": "code",
      "metadata": {
        "id": "ceg8QEpsuCCE",
        "outputId": "b56250e3-9c11-4eee-e212-7773f22d6c49",
        "colab": {
          "base_uri": "https://localhost:8080/",
          "height": 134
        }
      },
      "source": [
        "score = 100\n",
        "\n",
        "if score == 100 :\n",
        "  print(\"치킨먹는날\")\n",
        " elif  score>=90 :\n",
        "  print(\"성적:A\")\n",
        " elif score>=80 :\n",
        "  print(\"성적: B\")\n",
        " elif score>=70 :\n",
        "  print(\"성적: C\")\n",
        " elif score>=60 :\n",
        "  print(\"성적: D\")\n",
        " elif\n",
        "  print(\"성적: F\")\n",
        "print(\"수고하셨습니다\")"
      ],
      "execution_count": 8,
      "outputs": [
        {
          "output_type": "error",
          "ename": "IndentationError",
          "evalue": "ignored",
          "traceback": [
            "\u001b[0;36m  File \u001b[0;32m\"<ipython-input-8-8d2e5bfc74ca>\"\u001b[0;36m, line \u001b[0;32m5\u001b[0m\n\u001b[0;31m    elif  score>=90 :\u001b[0m\n\u001b[0m                     ^\u001b[0m\n\u001b[0;31mIndentationError\u001b[0m\u001b[0;31m:\u001b[0m unindent does not match any outer indentation level\n"
          ]
        }
      ]
    },
    {
      "cell_type": "code",
      "metadata": {
        "id": "KtB-s3m1wqcq"
      },
      "source": [
        ""
      ],
      "execution_count": 8,
      "outputs": []
    }
  ]
}