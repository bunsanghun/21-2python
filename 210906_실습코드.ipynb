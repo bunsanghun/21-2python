{
  "nbformat": 4,
  "nbformat_minor": 0,
  "metadata": {
    "colab": {
      "name": "210906_실습코드",
      "provenance": [],
      "authorship_tag": "ABX9TyOtcVPCnyzuxX/VAqdVMnDj",
      "include_colab_link": true
    },
    "kernelspec": {
      "name": "python3",
      "display_name": "Python 3"
    },
    "language_info": {
      "name": "python"
    }
  },
  "cells": [
    {
      "cell_type": "markdown",
      "metadata": {
        "id": "view-in-github",
        "colab_type": "text"
      },
      "source": [
        "<a href=\"https://colab.research.google.com/github/bunsanghun/21-2python/blob/main/210906_%EC%8B%A4%EC%8A%B5%EC%BD%94%EB%93%9C.ipynb\" target=\"_parent\"><img src=\"https://colab.research.google.com/assets/colab-badge.svg\" alt=\"Open In Colab\"/></a>"
      ]
    },
    {
      "cell_type": "code",
      "metadata": {
        "colab": {
          "base_uri": "https://localhost:8080/"
        },
        "id": "BOmQ5gKXV6Tn",
        "outputId": "a195087a-96f5-464f-9c7b-77fa7ccf4e1a"
      },
      "source": [
        "#1.Hello World!를 입력하시오.\n",
        "print(\"Hello World!\")"
      ],
      "execution_count": null,
      "outputs": [
        {
          "output_type": "stream",
          "name": "stdout",
          "text": [
            "Hello World!\n"
          ]
        }
      ]
    },
    {
      "cell_type": "code",
      "metadata": {
        "id": "mAKZd1qMbdl5",
        "colab": {
          "base_uri": "https://localhost:8080/"
        },
        "outputId": "39457936-d1b4-470b-c2ca-a99ffb91c431"
      },
      "source": [
        "# 2두 정수 A와 B를 입력받은 다음.\n",
        "# A+B를 출력하는 프로그램을 작성하시오.\n",
        "a.b = input().split()\n",
        "a = int(a)\n",
        "b = int(b)\n",
        "print(a+b)"
      ],
      "execution_count": 7,
      "outputs": [
        {
          "output_type": "stream",
          "name": "stdout",
          "text": [
            "1 2\n",
            "3\n"
          ]
        }
      ]
    },
    {
      "cell_type": "code",
      "metadata": {
        "colab": {
          "base_uri": "https://localhost:8080/"
        },
        "id": "AZ1aoEkXdlpg",
        "outputId": "ef33ac7b-372c-4dec-f0a5-ad2ff15dcf82"
      },
      "source": [
        "#3 두 자연수 A와 B가 주어진다.\n",
        "# 이때, A+B, A-B, A*B, A/B(몫), A%B(나머지)를 출력하는 프로그램을 작성하시오.\n",
        "a,b = input().split()\n",
        "a= int(a)\n",
        "b= int(b)\n",
        "print(a+b)\n",
        "print(a-b)\n",
        "print(a*b)\n",
        "print(a//b)\n",
        "print(a%b)"
      ],
      "execution_count": 13,
      "outputs": [
        {
          "output_type": "stream",
          "name": "stdout",
          "text": [
            "7 3\n",
            "10\n",
            "4\n",
            "21\n",
            "2\n",
            "1\n"
          ]
        }
      ]
    },
    {
      "cell_type": "code",
      "metadata": {
        "id": "s4-wyn6ljuuD"
      },
      "source": [
        "4. "
      ],
      "execution_count": null,
      "outputs": []
    },
    {
      "cell_type": "code",
      "metadata": {
        "colab": {
          "base_uri": "https://localhost:8080/"
        },
        "id": "urZ4dcILhR0P",
        "outputId": "e07f9d0b-bb92-42d6-ab80-a1b6b9c94a0e"
      },
      "source": [
        "# 4. (BOJ 9498) **if**\n",
        "# 시험 점수를 입력받아\n",
        "# 90 ~ 100점은 A 80 ~ 89점은 B\n",
        "#70 ~ 79점은 c, 60 ~ 69점은 D\n",
        "# 나머지 점수는 F를 출력하는 프로그램을 작성하시오.\n",
        "\n",
        "score = int(input())\n",
        "\n",
        "if score>=90 :\n",
        "  print(\"A\")\n",
        "elif score>=80 :\n",
        "    print(\"B\")\n",
        "elif score>=70 :\n",
        "    print(\"C\")\n",
        "elif score>=60 :\n",
        "    print(\"D\")\n",
        "else:\n",
        "    print(\"F\")\n",
        "\n",
        "\n"
      ],
      "execution_count": 29,
      "outputs": [
        {
          "output_type": "stream",
          "name": "stdout",
          "text": [
            "90\n",
            "A\n"
          ]
        }
      ]
    },
    {
      "cell_type": "code",
      "metadata": {
        "colab": {
          "base_uri": "https://localhost:8080/"
        },
        "id": "LZtuM8w9pnrJ",
        "outputId": "a5daf65e-9a0e-4dc2-e73a-8b00aa877628"
      },
      "source": [
        "#5 (BOJ 1330) **if문**\n",
        "#두 정수 A와 B가 주어졌을 때, \n",
        "#A와 B를 비교하는 프로그램을 작성하시오.\n",
        "a ,b = input().split()\n",
        "\n",
        "a= int(a)\n",
        "b= int(b)\n",
        "\n",
        "if a < b:\n",
        "  print(\"<\")\n",
        "elif a>b:\n",
        "  print(\">\")\n",
        "else:\n",
        "  print(\"==\")\n"
      ],
      "execution_count": 34,
      "outputs": [
        {
          "output_type": "stream",
          "name": "stdout",
          "text": [
            "1 1\n",
            "==\n"
          ]
        }
      ]
    },
    {
      "cell_type": "markdown",
      "metadata": {
        "id": "RhUFp3c8V_BN"
      },
      "source": [
        ""
      ]
    }
  ]
}