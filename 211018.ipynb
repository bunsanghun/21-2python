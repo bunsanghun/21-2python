{
  "nbformat": 4,
  "nbformat_minor": 0,
  "metadata": {
    "colab": {
      "name": "Untitled2.ipynb",
      "provenance": [],
      "authorship_tag": "ABX9TyPKCDcEmSCL+PWuUXb6PLJQ",
      "include_colab_link": true
    },
    "kernelspec": {
      "name": "python3",
      "display_name": "Python 3"
    },
    "language_info": {
      "name": "python"
    }
  },
  "cells": [
    {
      "cell_type": "markdown",
      "metadata": {
        "id": "view-in-github",
        "colab_type": "text"
      },
      "source": [
        "<a href=\"https://colab.research.google.com/github/bunsanghun/21-2python/blob/main/211018.ipynb\" target=\"_parent\"><img src=\"https://colab.research.google.com/assets/colab-badge.svg\" alt=\"Open In Colab\"/></a>"
      ]
    },
    {
      "cell_type": "code",
      "metadata": {
        "colab": {
          "base_uri": "https://localhost:8080/",
          "height": 137
        },
        "id": "UkU-CSk-t4nh",
        "outputId": "d5c229d4-bfb4-4964-a188-1b50e2f3b344"
      },
      "source": [
        "\n",
        "#1 파이썬 변수로 사용 할 수 없는것은\n",
        "_num = 1\n",
        "num = 2\n",
        "num1 = 3\n",
        "#2num = 3\n",
        "# 앞에 숫자는 올 수 없다!\n",
        "n_um = 3\n",
        "1=2"
      ],
      "execution_count": 2,
      "outputs": [
        {
          "output_type": "error",
          "ename": "SyntaxError",
          "evalue": "ignored",
          "traceback": [
            "\u001b[0;36m  File \u001b[0;32m\"<ipython-input-2-a8d08e691530>\"\u001b[0;36m, line \u001b[0;32m9\u001b[0m\n\u001b[0;31m    1=2\u001b[0m\n\u001b[0m       ^\u001b[0m\n\u001b[0;31mSyntaxError\u001b[0m\u001b[0;31m:\u001b[0m can't assign to literal\n"
          ]
        }
      ]
    },
    {
      "cell_type": "code",
      "metadata": {
        "colab": {
          "base_uri": "https://localhost:8080/"
        },
        "id": "xhzM8M0ivClm",
        "outputId": "0f4ceca1-8a64-4a4a-8fcf-23a6fd343ca3"
      },
      "source": [
        "#2. 각 변수에 저장된 최종 값은?\n",
        "sum = 0\n",
        "n1 = 10\n",
        "n1 = n1+10\n",
        "n2 = 20\n",
        "sum = n1+n2\n",
        "print(n1,n2, sum)"
      ],
      "execution_count": 3,
      "outputs": [
        {
          "output_type": "stream",
          "name": "stdout",
          "text": [
            "20 20 40\n"
          ]
        }
      ]
    },
    {
      "cell_type": "code",
      "metadata": {
        "colab": {
          "base_uri": "https://localhost:8080/"
        },
        "id": "mGeuhpATvdRj",
        "outputId": "9dc76798-2426-4e98-a018-31e2a823c8b8"
      },
      "source": [
        "#3. 적절한 연산자 찾기\n",
        "print(17//6)\n",
        "print(17/4)\n",
        "print(17%4)"
      ],
      "execution_count": 4,
      "outputs": [
        {
          "output_type": "stream",
          "name": "stdout",
          "text": [
            "2\n",
            "4.25\n",
            "1\n"
          ]
        }
      ]
    },
    {
      "cell_type": "code",
      "metadata": {
        "colab": {
          "base_uri": "https://localhost:8080/"
        },
        "id": "Xiduqvsi0Zt8",
        "outputId": "0957f641-89a0-4c0e-b251-73d852e6414b"
      },
      "source": [
        "#4. 타입 찾기\n",
        "#age = 17\n",
        "age = 17.8\n",
        "print(type(type(age)))"
      ],
      "execution_count": 5,
      "outputs": [
        {
          "output_type": "stream",
          "name": "stdout",
          "text": [
            "<class 'type'>\n"
          ]
        }
      ]
    },
    {
      "cell_type": "code",
      "metadata": {
        "colab": {
          "base_uri": "https://localhost:8080/"
        },
        "id": "o5P6xGko013F",
        "outputId": "ac85add4-c024-4b5b-f76f-9d67d21820b7"
      },
      "source": [
        "5#, 문자열 인덱싱\n",
        "s = \"Hello hanyang!\"\n",
        "print(s[5],s[-5])"
      ],
      "execution_count": 6,
      "outputs": [
        {
          "output_type": "stream",
          "name": "stdout",
          "text": [
            "  y\n"
          ]
        }
      ]
    },
    {
      "cell_type": "code",
      "metadata": {
        "colab": {
          "base_uri": "https://localhost:8080/"
        },
        "id": "eXNA_XCa14SE",
        "outputId": "c1d7c075-48a4-4d1c-a0ed-6f798c81e8ce"
      },
      "source": [
        "#6. upper()함수으와 문자열 슬라이싱\n",
        "s = \"Hello hanyang\"\n",
        "print(s)\n",
        "s = s.upper()\n",
        "\n",
        "print(s)\n",
        "print(s[:8])\n",
        "print(s[8:])\n",
        "print(s[1:10])"
      ],
      "execution_count": 7,
      "outputs": [
        {
          "output_type": "stream",
          "name": "stdout",
          "text": [
            "Hello hanyang\n",
            "HELLO HANYANG\n",
            "HELLO HA\n",
            "NYANG\n",
            "ELLO HANY\n"
          ]
        }
      ]
    },
    {
      "cell_type": "code",
      "metadata": {
        "id": "4XP7Rli-2qjk"
      },
      "source": [
        "#7. 여러 데이터를 다루는 파이썬 자료형\n",
        "# 리스트, 튜플, 딕셔너라, 셋"
      ],
      "execution_count": 8,
      "outputs": []
    },
    {
      "cell_type": "code",
      "metadata": {
        "colab": {
          "base_uri": "https://localhost:8080/"
        },
        "id": "X2b5NecW3Nvc",
        "outputId": "a844411a-6543-4b42-f359-da5dc22e97d5"
      },
      "source": [
        "#8~9 리스트\n",
        "a = ['a', 1, 'python',(1,2), '2',[1,2]]\n",
        "print(a[3])\n",
        "print(1 in a, 2 in a)"
      ],
      "execution_count": 9,
      "outputs": [
        {
          "output_type": "stream",
          "name": "stdout",
          "text": [
            "(1, 2)\n",
            "True False\n"
          ]
        }
      ]
    },
    {
      "cell_type": "code",
      "metadata": {
        "colab": {
          "base_uri": "https://localhost:8080/"
        },
        "id": "03kzco3l3wUD",
        "outputId": "5a423c38-3b82-478e-fa6f-d23698f4ec88"
      },
      "source": [
        "#10. 파이썬 코드\n",
        "nums = list(range(4))\n",
        "print(nums)\n",
        "nums.insert(3,100)       \n",
        "print(nums)"
      ],
      "execution_count": 12,
      "outputs": [
        {
          "output_type": "stream",
          "name": "stdout",
          "text": [
            "[0, 1, 2, 3]\n",
            "[0, 1, 2, 100, 3]\n"
          ]
        }
      ]
    },
    {
      "cell_type": "code",
      "metadata": {
        "colab": {
          "base_uri": "https://localhost:8080/"
        },
        "id": "v94l6DV44if0",
        "outputId": "0f6f16a8-a2e0-4225-a866-124cac4360d3"
      },
      "source": [
        "#11. 변수의 최종값\n",
        "a = 100\n",
        "b = 200\n",
        "\n",
        "\n",
        "a,b = b, a\n",
        "\n",
        "print(a,b)"
      ],
      "execution_count": 13,
      "outputs": [
        {
          "output_type": "stream",
          "name": "stdout",
          "text": [
            "200 100\n"
          ]
        }
      ]
    },
    {
      "cell_type": "code",
      "metadata": {
        "colab": {
          "base_uri": "https://localhost:8080/"
        },
        "id": "GX1nosYT5nwT",
        "outputId": "b47229e8-d82c-455e-9508-feef9ac05b87"
      },
      "source": [
        "#12. 딕셔너리\n",
        "a = {'han':1, 1:2, '1':3}\n",
        "a[1] = 'yang'\n",
        "print(a)"
      ],
      "execution_count": 16,
      "outputs": [
        {
          "output_type": "stream",
          "name": "stdout",
          "text": [
            "{'han': 1, 1: 'yang', '1': 3}\n"
          ]
        }
      ]
    },
    {
      "cell_type": "code",
      "metadata": {
        "colab": {
          "base_uri": "https://localhost:8080/"
        },
        "id": "xD6JRtcj6L7i",
        "outputId": "946304b1-d894-453d-9aeb-fbf2aafd9dbe"
      },
      "source": [
        "#13. 셋\n",
        "a =set([1,1,1,1,1,1,1,1,1,1,2,3])\n",
        "print(a)\n",
        "b = set('hello')\n",
        "print(b)"
      ],
      "execution_count": 20,
      "outputs": [
        {
          "output_type": "stream",
          "name": "stdout",
          "text": [
            "{1, 2, 3}\n",
            "{'l', 'o', 'h', 'e'}\n"
          ]
        }
      ]
    },
    {
      "cell_type": "code",
      "metadata": {
        "colab": {
          "base_uri": "https://localhost:8080/"
        },
        "id": "7SFlGize6reF",
        "outputId": "8f680f2a-cb6c-4498-fe26-1fd6cb08fe7c"
      },
      "source": [
        "#14.\n",
        "room = [[0,0,1,0,0],\n",
        "       [1,0,1,0,1],\n",
        "       [0,1,1,1,9]]\n",
        "\n",
        "mouse = room[0][2]\n",
        "\n",
        "if mouse == 1:\n",
        "  print(\"cheese\")\n",
        "elif mouse == 9:\n",
        "  print(\"trap\")\n",
        "else:\n",
        "  print(\"nothing\")"
      ],
      "execution_count": 21,
      "outputs": [
        {
          "output_type": "stream",
          "name": "stdout",
          "text": [
            "cheese\n"
          ]
        }
      ]
    },
    {
      "cell_type": "code",
      "metadata": {
        "colab": {
          "base_uri": "https://localhost:8080/"
        },
        "id": "hhLpoa0_DSwD",
        "outputId": "2c3264eb-920b-413e-fe22-846d56c5de6e"
      },
      "source": [
        "#16~17.\n",
        "\n",
        "a = 0\n",
        "b = 0\n",
        "\n",
        "for i in range(3,9):\n",
        "  if i%2 == 0 and i%2==0:\n",
        "    continue\n",
        "  elif i%2 == 0:\n",
        "    a += 1\n",
        "  elif i%3 == 0:\n",
        "    b += 1 \n",
        "print(a,b)"
      ],
      "execution_count": 24,
      "outputs": [
        {
          "output_type": "stream",
          "name": "stdout",
          "text": [
            "0 1\n"
          ]
        }
      ]
    },
    {
      "cell_type": "code",
      "metadata": {
        "colab": {
          "base_uri": "https://localhost:8080/"
        },
        "id": "SGAYnazLEzVz",
        "outputId": "9a7d98e4-834a-4c57-f924-99eec48e2447"
      },
      "source": [
        "#18~20\n",
        "print(\"메뉴번호 1.쿠키(300원) 2.짬뽕(500원) 3. 치킨(700)\")\n",
        "\n",
        "money = int(input(\"투입금액\"))\n",
        "menu = int(input(\"메뉴번호\"))\n",
        "\n",
        "if menu == 1:\n",
        "  money = money-300\n",
        "elif menu == 2:\n",
        "  money -=500\n",
        "elif menu == 3:\n",
        "  money -=700\n",
        "\n",
        "  if money < 0:\n",
        "    print(\"금액이 부족합니다.\")\n",
        "  else:\n",
        "    won1000 = money//1000\n",
        "    won500 = (money%1000)//500\n",
        "    won100 = ((money%1000)%500)//100\n",
        "print('거스름돈: 1000원{}개, 500 {}개, 100원 {}개'.format(won1000,won500,won100))\n"
      ],
      "execution_count": 32,
      "outputs": [
        {
          "output_type": "stream",
          "name": "stdout",
          "text": [
            "메뉴번호 1.쿠키(300원) 2.짬뽕(500원) 3. 치킨(700)\n",
            "투입금액5000\n",
            "메뉴번호3\n",
            "거스름돈: 1000원4개, 500 0개, 100원 3개\n"
          ]
        }
      ]
    },
    {
      "cell_type": "code",
      "metadata": {
        "id": "g1VXSajxIqGq"
      },
      "source": [
        ""
      ],
      "execution_count": null,
      "outputs": []
    }
  ]
}