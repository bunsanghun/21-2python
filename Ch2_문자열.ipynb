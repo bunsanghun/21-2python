{
  "nbformat": 4,
  "nbformat_minor": 0,
  "metadata": {
    "colab": {
      "name": "Untitled0.ipynb",
      "provenance": [],
      "authorship_tag": "ABX9TyOnIud5DX/Sq54b9rv6gdot",
      "include_colab_link": true
    },
    "kernelspec": {
      "name": "python3",
      "display_name": "Python 3"
    },
    "language_info": {
      "name": "python"
    }
  },
  "cells": [
    {
      "cell_type": "markdown",
      "metadata": {
        "id": "view-in-github",
        "colab_type": "text"
      },
      "source": [
        "<a href=\"https://colab.research.google.com/github/bunsanghun/21-2python/blob/main/Ch2_%EB%AC%B8%EC%9E%90%EC%97%B4.ipynb\" target=\"_parent\"><img src=\"https://colab.research.google.com/assets/colab-badge.svg\" alt=\"Open In Colab\"/></a>"
      ]
    },
    {
      "cell_type": "code",
      "metadata": {
        "id": "sY03zHkd9Wzz"
      },
      "source": [
        ""
      ],
      "execution_count": null,
      "outputs": []
    },
    {
      "cell_type": "markdown",
      "metadata": {
        "id": "l1IiPI-t9X6s"
      },
      "source": [
        "# **학습목표**\n",
        "1. 문자열(str) 타입 이해하기"
      ]
    },
    {
      "cell_type": "code",
      "metadata": {
        "id": "RIBmn6SA9ryb"
      },
      "source": [
        ""
      ],
      "execution_count": null,
      "outputs": []
    },
    {
      "cell_type": "markdown",
      "metadata": {
        "id": "46-kpZwI9sqW"
      },
      "source": [
        "# **문자열(str)**\n",
        "- 여러 개의 문자를 순서대로 나열한 것\n",
        "- 문자열은'(작은따옴표)'혹은\"(큰따옴표) 사이에 문자를 넣어서 생성\n",
        "- ''',\"\"\" (여러번 쓸경우: 여러 줄에 걸쳐 문자열이 표현 가능\n",
        "- ',\"차이점\n",
        "- 문자열 자체에'.\"있을 경우에는 그 반대의 기호로 생성"
      ]
    },
    {
      "cell_type": "code",
      "metadata": {
        "colab": {
          "base_uri": "https://localhost:8080/"
        },
        "id": "Jdncpf2z-rR6",
        "outputId": "a47c5d0a-726d-4d95-d374-e78578b5ca64"
      },
      "source": [
        "a = 'hello world'\n",
        "b = \"hello world\"\n",
        "\n",
        "c = '''hello worid\n",
        "\n",
        "it is sanghun'''\n",
        "\n",
        "d = \"\"\"hello world\n",
        "it is sang hun\"\"\"\n",
        "print (a)\n",
        "print (b)\n"
      ],
      "execution_count": 1,
      "outputs": [
        {
          "output_type": "stream",
          "text": [
            "hello world\n",
            "hello world\n"
          ],
          "name": "stdout"
        }
      ]
    },
    {
      "cell_type": "code",
      "metadata": {
        "id": "a4SfqsJI-_vz"
      },
      "source": [
        ""
      ],
      "execution_count": 1,
      "outputs": []
    },
    {
      "cell_type": "markdown",
      "metadata": {
        "id": "1zYvjK-5A_Xl"
      },
      "source": [
        "# **이스케이프(ascape) 문자**\n",
        "\n",
        "* '단출 효과'를 추가 위해 문자열 내부를 넣ㄴ은다\n",
        "* 'wn' 엔터(다음줄)\n",
        "* 'wt' : tab"
      ]
    },
    {
      "cell_type": "code",
      "metadata": {
        "colab": {
          "base_uri": "https://localhost:8080/"
        },
        "id": "6rcPvFJ1Byxi",
        "outputId": "6aa7d4f6-a903-49a9-d8e3-0b4ae2d5403b"
      },
      "source": [
        "print( 'hellownwnworld')\n",
        "print('이렇게 엔터를Wn 치면 됩니다')\n",
        "print('2학기 회장:Wt 오상록')\n",
        "print('1학기 회장:Wt 던지설')"
      ],
      "execution_count": 2,
      "outputs": [
        {
          "output_type": "stream",
          "text": [
            "hellownwnworld\n",
            "이렇게 엔터를Wn 치면 됩니다\n",
            "2학기 회장:Wt 오상록\n",
            "1학기 회장:Wt 던지설\n"
          ],
          "name": "stdout"
        }
      ]
    },
    {
      "cell_type": "code",
      "metadata": {
        "id": "RhShnKYxCq-R"
      },
      "source": [
        ""
      ],
      "execution_count": null,
      "outputs": []
    }
  ]
}