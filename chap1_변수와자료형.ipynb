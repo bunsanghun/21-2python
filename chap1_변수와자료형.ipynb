{
  "nbformat": 4,
  "nbformat_minor": 0,
  "metadata": {
    "colab": {
      "name": "Untitled0.ipynb",
      "provenance": [],
      "authorship_tag": "ABX9TyNBCQmXpfSlK+QO1xSxmwdw",
      "include_colab_link": true
    },
    "kernelspec": {
      "name": "python3",
      "display_name": "Python 3"
    },
    "language_info": {
      "name": "python"
    }
  },
  "cells": [
    {
      "cell_type": "markdown",
      "metadata": {
        "id": "view-in-github",
        "colab_type": "text"
      },
      "source": [
        "<a href=\"https://colab.research.google.com/github/bunsanghun/21-2python/blob/main/chap1_%EB%B3%80%EC%88%98%EC%99%80%EC%9E%90%EB%A3%8C%ED%98%95.ipynb\" target=\"_parent\"><img src=\"https://colab.research.google.com/assets/colab-badge.svg\" alt=\"Open In Colab\"/></a>"
      ]
    },
    {
      "cell_type": "code",
      "metadata": {
        "id": "LgPgkNrWXHfK"
      },
      "source": [
        ""
      ],
      "execution_count": null,
      "outputs": []
    },
    {
      "cell_type": "markdown",
      "metadata": {
        "id": "5-Ks25gdbTxQ"
      },
      "source": [
        "#학습목표\n",
        "1.파이썬 언어에서 변수의 의미를 이해하기\n",
        "2. 기본 데이터 타입을 선언하기 (int,float,str,bool)"
      ]
    },
    {
      "cell_type": "markdown",
      "metadata": {
        "id": "qEMWex-Qc2hn"
      },
      "source": [
        "### 대입연산자\n",
        "대입의 경우,오른쪽의 수식이나 값을 계산한 뒤,왼쪽 변수에 값을 대입\n",
        "변수는 해당 값을 가지게 된다."
      ]
    },
    {
      "cell_type": "code",
      "metadata": {
        "id": "1qNFj8cMXSD-"
      },
      "source": [
        "a = 10 #int\n",
        "b = 11.4 #float"
      ],
      "execution_count": null,
      "outputs": []
    },
    {
      "cell_type": "code",
      "metadata": {
        "colab": {
          "base_uri": "https://localhost:8080/"
        },
        "id": "eYEdUqg7eH_r",
        "outputId": "2d6ecc39-8578-430c-846f-66dc5c8e5032"
      },
      "source": [
        " print(a)"
      ],
      "execution_count": null,
      "outputs": [
        {
          "output_type": "stream",
          "text": [
            "10\n"
          ],
          "name": "stdout"
        }
      ]
    },
    {
      "cell_type": "code",
      "metadata": {
        "id": "HgNwg9caeQoC"
      },
      "source": [
        ""
      ],
      "execution_count": null,
      "outputs": []
    },
    {
      "cell_type": "markdown",
      "metadata": {
        "id": "nlLdVvyYeuuZ"
      },
      "source": [
        "# 주석(comment)\n",
        "* 코드에서 #으로 시작하는 뒤부분은 실행 안함\n",
        "* python이 실행할 때 #만나면 무시\n",
        "*개발자(사람)이 보기 위한 용도로 사용\n",
        "\n"
      ]
    },
    {
      "cell_type": "code",
      "metadata": {
        "id": "BeDkwR8Xfj3a"
      },
      "source": [
        "#수학점수\n",
        "#지우지 마세요\n",
        "\n",
        "math = 11\n",
        "english = 57.8"
      ],
      "execution_count": null,
      "outputs": []
    },
    {
      "cell_type": "code",
      "metadata": {
        "id": "NnARXunBgIkM"
      },
      "source": [
        ""
      ],
      "execution_count": null,
      "outputs": []
    },
    {
      "cell_type": "markdown",
      "metadata": {
        "id": "Vs6leAEjgJqx"
      },
      "source": [
        "# **print 함수**\n",
        "* 함수란 특정 기능을 반복적으로 호출하여 사용가능한 코드블럭\n",
        "*해당 변수 값이 출력\n",
        "*,로 여러 변수를 나열하면 한줄에 출력\n",
        "*기본적으로는 한칸 띄어쓰기 후출력"
      ]
    },
    {
      "cell_type": "code",
      "metadata": {
        "colab": {
          "base_uri": "https://localhost:8080/"
        },
        "id": "lO8doyY8hG65",
        "outputId": "aa6cc462-72e5-4678-83cf-0074acc718e4"
      },
      "source": [
        "print(a, b)"
      ],
      "execution_count": null,
      "outputs": [
        {
          "output_type": "stream",
          "text": [
            "10 11.4\n"
          ],
          "name": "stdout"
        }
      ]
    },
    {
      "cell_type": "code",
      "metadata": {
        "colab": {
          "base_uri": "https://localhost:8080/"
        },
        "id": "Qrykan_xhQuT",
        "outputId": "5f17a0d5-ada1-4ea3-d0ec-5adaa05e3531"
      },
      "source": [
        "print(math, english, 20, '변상훈')"
      ],
      "execution_count": null,
      "outputs": [
        {
          "output_type": "stream",
          "text": [
            "11 57.8 20 변상훈\n"
          ],
          "name": "stdout"
        }
      ]
    },
    {
      "cell_type": "code",
      "metadata": {
        "id": "yzZQrA04hhBe"
      },
      "source": [
        ""
      ],
      "execution_count": null,
      "outputs": []
    },
    {
      "cell_type": "markdown",
      "metadata": {
        "id": "UFqKCe0ohruk"
      },
      "source": [
        "###  **변수 값 확인 방법**\n",
        "1.print() 함수 사용\n",
        "2. 변수 값을 코드의 마지막에 위치 시킨 후 실행\n",
        "\n",
        "        이 경우 output으로 변수의 값이 출력된다."
      ]
    },
    {
      "cell_type": "code",
      "metadata": {
        "colab": {
          "base_uri": "https://localhost:8080/"
        },
        "id": "0fjCCpyRiroz",
        "outputId": "f5503b38-bfae-4677-ddd8-308d304f005d"
      },
      "source": [
        "math\n",
        "english"
      ],
      "execution_count": null,
      "outputs": [
        {
          "output_type": "execute_result",
          "data": {
            "text/plain": [
              "57.8"
            ]
          },
          "metadata": {},
          "execution_count": 9
        }
      ]
    },
    {
      "cell_type": "code",
      "metadata": {
        "id": "xndSW_qGi2nm"
      },
      "source": [
        ""
      ],
      "execution_count": null,
      "outputs": []
    },
    {
      "cell_type": "markdown",
      "metadata": {
        "id": "fddvFKhojV_h"
      },
      "source": [
        "# **변수 이름 규칙**\n",
        "* 영문 대소문자._, 숫자로 구성 가능\n",
        "      *숫자로 시작은 안된다!\n",
        "* 일반적으로 변수를 표현할 때 정확하고 간결한 이름을 사용하여 쉽게 이해하도록 설정한다.\n",
        "         *예)a= 900 경우보다, hy_student_num = 900 으로 명시하는 것이 이해가 빠르다.\n"
      ]
    },
    {
      "cell_type": "code",
      "metadata": {
        "colab": {
          "base_uri": "https://localhost:8080/",
          "height": 136
        },
        "id": "dtdojPGPlIzV",
        "outputId": "7462f58c-8680-44f1-9e1d-1099622e441e"
      },
      "source": [
        "abAB = 100\n",
        "#4_num = 10숫자로 사정하여 실행안됨\n",
        " ABab = 200\n",
        " _right =800\n"
      ],
      "execution_count": null,
      "outputs": [
        {
          "output_type": "error",
          "ename": "IndentationError",
          "evalue": "ignored",
          "traceback": [
            "\u001b[0;36m  File \u001b[0;32m\"<ipython-input-12-ac0ef6e04082>\"\u001b[0;36m, line \u001b[0;32m3\u001b[0m\n\u001b[0;31m    ABab = 200\u001b[0m\n\u001b[0m    ^\u001b[0m\n\u001b[0;31mIndentationError\u001b[0m\u001b[0;31m:\u001b[0m unexpected indent\n"
          ]
        }
      ]
    },
    {
      "cell_type": "markdown",
      "metadata": {
        "id": "_y-cZlTwnCBB"
      },
      "source": [
        ""
      ]
    },
    {
      "cell_type": "markdown",
      "metadata": {
        "id": "rPKuSUtwlDqV"
      },
      "source": [
        ""
      ]
    },
    {
      "cell_type": "markdown",
      "metadata": {
        "id": "OfzQjqHYnZ_W"
      },
      "source": [
        ""
      ]
    },
    {
      "cell_type": "markdown",
      "metadata": {
        "id": "9psQgEhanFiY"
      },
      "source": [
        "#  **예약어(키워드)**\n",
        "*Python에서 미리 선정하여 사용중인 키워드\n",
        "* 변수,점수,클래스 등 사용자 정의 이름으로 사용할 수 없음"
      ]
    },
    {
      "cell_type": "markdown",
      "metadata": {
        "id": "EEwhW8eCm_gs"
      },
      "source": [
        ""
      ]
    },
    {
      "cell_type": "code",
      "metadata": {
        "id": "aLDhRchym3GX",
        "outputId": "ce05a8ac-403d-4883-a16e-26a4ef126f32",
        "colab": {
          "base_uri": "https://localhost:8080/",
          "height": 136
        }
      },
      "source": [
        "for = 10 #for은 예약어로 변수 사용 불가\n",
        "_for = 100\n",
        "_for ="
      ],
      "execution_count": 1,
      "outputs": [
        {
          "output_type": "error",
          "ename": "SyntaxError",
          "evalue": "ignored",
          "traceback": [
            "\u001b[0;36m  File \u001b[0;32m\"<ipython-input-1-ff4ef5e3b8e6>\"\u001b[0;36m, line \u001b[0;32m1\u001b[0m\n\u001b[0;31m    for = 10 #for은 예약어로 변수 사용 불가\u001b[0m\n\u001b[0m        ^\u001b[0m\n\u001b[0;31mSyntaxError\u001b[0m\u001b[0;31m:\u001b[0m invalid syntax\n"
          ]
        }
      ]
    },
    {
      "cell_type": "code",
      "metadata": {
        "id": "YoBjT3K7nbu7"
      },
      "source": [
        ""
      ],
      "execution_count": null,
      "outputs": []
    },
    {
      "cell_type": "markdown",
      "metadata": {
        "id": "Aeaiogntnobb"
      },
      "source": [
        "## **기본 데이터 타입**\n",
        "* 정수(int)\n",
        "*실수(float)\n",
        "*문자열(str)\n",
        "*불리언(boolean)"
      ]
    },
    {
      "cell_type": "markdown",
      "metadata": {
        "id": "UuLh_Kp5nlZr"
      },
      "source": [
        ""
      ]
    },
    {
      "cell_type": "code",
      "metadata": {
        "id": "_VC9lpDEoOlV",
        "outputId": "ea77df47-6473-463c-b251-acbac6a157b8",
        "colab": {
          "base_uri": "https://localhost:8080/",
          "height": 136
        }
      },
      "source": [
        "a = 10 #정수형(int)\n",
        "b = 15.6 #실수형\n",
        "c = \"2학기 회장\"#문자형(str)\n",
        "d = a > b #불리언(boolean)\n",
        " print( a, b, c, d)"
      ],
      "execution_count": 2,
      "outputs": [
        {
          "output_type": "error",
          "ename": "IndentationError",
          "evalue": "ignored",
          "traceback": [
            "\u001b[0;36m  File \u001b[0;32m\"<ipython-input-2-654e42334a18>\"\u001b[0;36m, line \u001b[0;32m5\u001b[0m\n\u001b[0;31m    print( a, b, c, d)\u001b[0m\n\u001b[0m    ^\u001b[0m\n\u001b[0;31mIndentationError\u001b[0m\u001b[0;31m:\u001b[0m unexpected indent\n"
          ]
        }
      ]
    },
    {
      "cell_type": "code",
      "metadata": {
        "id": "PGS_VMQ5o_Mj"
      },
      "source": [
        ""
      ],
      "execution_count": null,
      "outputs": []
    },
    {
      "cell_type": "markdown",
      "metadata": {
        "id": "vx1CM5JbpEX0"
      },
      "source": [
        "# type() 함수\n",
        "해당 변수, 값의 타입(type)을 알고자할 때 사용하는 함수"
      ]
    },
    {
      "cell_type": "markdown",
      "metadata": {
        "id": "nTQmp0htpjWT"
      },
      "source": [
        ""
      ]
    },
    {
      "cell_type": "code",
      "metadata": {
        "id": "P5TTIC8dpbZS",
        "outputId": "30af97d3-f3b4-421c-e8a3-eeeb0f9ec40e",
        "colab": {
          "base_uri": "https://localhost:8080/",
          "height": 172
        }
      },
      "source": [
        "print (type(a), type(b), type(c), type(d))"
      ],
      "execution_count": 8,
      "outputs": [
        {
          "output_type": "error",
          "ename": "NameError",
          "evalue": "ignored",
          "traceback": [
            "\u001b[0;31m---------------------------------------------------------------------------\u001b[0m",
            "\u001b[0;31mNameError\u001b[0m                                 Traceback (most recent call last)",
            "\u001b[0;32m<ipython-input-8-ee9ffa5bf6e3>\u001b[0m in \u001b[0;36m<module>\u001b[0;34m()\u001b[0m\n\u001b[0;32m----> 1\u001b[0;31m \u001b[0mprint\u001b[0m \u001b[0;34m(\u001b[0m\u001b[0mtype\u001b[0m\u001b[0;34m(\u001b[0m\u001b[0ma\u001b[0m\u001b[0;34m)\u001b[0m\u001b[0;34m,\u001b[0m \u001b[0mtype\u001b[0m\u001b[0;34m(\u001b[0m\u001b[0mb\u001b[0m\u001b[0;34m)\u001b[0m\u001b[0;34m,\u001b[0m \u001b[0mtype\u001b[0m\u001b[0;34m(\u001b[0m\u001b[0mc\u001b[0m\u001b[0;34m)\u001b[0m\u001b[0;34m,\u001b[0m \u001b[0mtype\u001b[0m\u001b[0;34m(\u001b[0m\u001b[0md\u001b[0m\u001b[0;34m)\u001b[0m\u001b[0;34m)\u001b[0m\u001b[0;34m\u001b[0m\u001b[0;34m\u001b[0m\u001b[0m\n\u001b[0m",
            "\u001b[0;31mNameError\u001b[0m: name 'a' is not defined"
          ]
        }
      ]
    },
    {
      "cell_type": "code",
      "metadata": {
        "id": "Z515ZaByplZC"
      },
      "source": [
        ""
      ],
      "execution_count": null,
      "outputs": []
    },
    {
      "cell_type": "markdown",
      "metadata": {
        "id": "l-sDSgadpmSC"
      },
      "source": [
        "### **타입 None**\n",
        "\n",
        "* 아무런 값을 갖지 않을 때 사용\n",
        "* 일반적으로 변수가 초기값을 잦지 않게 하여 해단 변수를 생성할 때 사용\n",
        "* 다른 언어에서는 NULL과 같은 의미로 사용"
      ]
    },
    {
      "cell_type": "code",
      "metadata": {
        "id": "na7aSS4jqk7b",
        "outputId": "079df420-7a71-4cd6-d8a3-cdedee5edd68",
        "colab": {
          "base_uri": "https://localhost:8080/"
        }
      },
      "source": [
        "n = None\n",
        "print (n)"
      ],
      "execution_count": 9,
      "outputs": [
        {
          "output_type": "stream",
          "text": [
            "None\n"
          ],
          "name": "stdout"
        }
      ]
    },
    {
      "cell_type": "code",
      "metadata": {
        "id": "pwmH7gNRqudx"
      },
      "source": [
        ""
      ],
      "execution_count": null,
      "outputs": []
    },
    {
      "cell_type": "markdown",
      "metadata": {
        "id": "hdJLM-ywupdL"
      },
      "source": [
        "# **비교 연산자**\n",
        "- 프로그래밍에서는 '='이게 아니라, == 를 사용\n",
        "-예) 2학기 회장 == 상록 #잠 \n",
        "-작다, 크다 (>.<)\n",
        "-작거나 같다(--)\n",
        "-같지 않다(!=)\n",
        "        \n",
        "        *예)2학기 회장 != 지설 #거짓\n",
        " -결론적으로 비교 연산자 결과는 BOOL 타입으로 출력"
      ]
    },
    {
      "cell_type": "code",
      "metadata": {
        "id": "A-1sghLPwC2l",
        "outputId": "15d8ba92-d80c-4345-fae6-5e8a530da8dc",
        "colab": {
          "base_uri": "https://localhost:8080/"
        }
      },
      "source": [
        "ss = 76100\n",
        "nv = 43400\n",
        "\n",
        "\n",
        "print (ss<nv)\n",
        "print (nv>nv)\n",
        "\n",
        "print (nv<=ss)\n",
        "print (nv>=ss)\n",
        "\n",
        "print (nv==ss)\n",
        "print (nv!=ss)"
      ],
      "execution_count": 10,
      "outputs": [
        {
          "output_type": "stream",
          "text": [
            "False\n",
            "False\n",
            "True\n",
            "False\n",
            "False\n",
            "True\n"
          ],
          "name": "stdout"
        }
      ]
    },
    {
      "cell_type": "code",
      "metadata": {
        "id": "9WdEu0tGw_lr"
      },
      "source": [
        ""
      ],
      "execution_count": null,
      "outputs": []
    },
    {
      "cell_type": "markdown",
      "metadata": {
        "id": "N4hfKdkAxyhH"
      },
      "source": [
        "## 기본 **연산자**"
      ]
    },
    {
      "cell_type": "code",
      "metadata": {
        "id": "Ppm24ozgx8my",
        "outputId": "1670d405-b616-4790-e508-6e516c9dba50",
        "colab": {
          "base_uri": "https://localhost:8080/"
        }
      },
      "source": [
        "print (ss + nv)\n",
        "print (ss - nv)\n",
        "print (ss * nv)\n",
        "print (ss / nv)\n",
        "print (nv & ss)\n",
        "a = 3\n",
        "b = 2\n",
        "print (a ** b)"
      ],
      "execution_count": 12,
      "outputs": [
        {
          "output_type": "stream",
          "text": [
            "119500\n",
            "32700\n",
            "3302740000\n",
            "1.7534562211981566\n",
            "10496\n",
            "9\n"
          ],
          "name": "stdout"
        }
      ]
    },
    {
      "cell_type": "code",
      "metadata": {
        "id": "JZEoIzroykn2"
      },
      "source": [
        ""
      ],
      "execution_count": null,
      "outputs": []
    },
    {
      "cell_type": "markdown",
      "metadata": {
        "id": "_4f6D8vSzIYd"
      },
      "source": [
        "**연산자 우선순위**\n",
        "- 기본적으로 수학의 연산자와 동일\n",
        "-먼저 연산을 위해서 괄호()를 사용"
      ]
    },
    {
      "cell_type": "code",
      "metadata": {
        "id": "vLEseV7vzn_e",
        "outputId": "74a11073-e03b-4f1b-ce19-b098857831e1",
        "colab": {
          "base_uri": "https://localhost:8080/"
        }
      },
      "source": [
        "a=5\n",
        "b -4\n",
        "print (a+b*50)\n",
        "print((a+b)*50)"
      ],
      "execution_count": 13,
      "outputs": [
        {
          "output_type": "stream",
          "text": [
            "105\n",
            "350\n"
          ],
          "name": "stdout"
        }
      ]
    },
    {
      "cell_type": "code",
      "metadata": {
        "id": "75FB9sWMz73b"
      },
      "source": [
        ""
      ],
      "execution_count": null,
      "outputs": []
    }
  ]
}