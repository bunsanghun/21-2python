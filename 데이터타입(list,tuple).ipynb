{
  "nbformat": 4,
  "nbformat_minor": 0,
  "metadata": {
    "colab": {
      "name": "데이터타입(list,tuple).ipynb",
      "provenance": [],
      "authorship_tag": "ABX9TyOIIiqgxRWQ+layNu1DW0jz",
      "include_colab_link": true
    },
    "kernelspec": {
      "name": "python3",
      "display_name": "Python 3"
    },
    "language_info": {
      "name": "python"
    }
  },
  "cells": [
    {
      "cell_type": "markdown",
      "metadata": {
        "id": "view-in-github",
        "colab_type": "text"
      },
      "source": [
        "<a href=\"https://colab.research.google.com/github/bunsanghun/21-2python/blob/main/%EB%8D%B0%EC%9D%B4%ED%84%B0%ED%83%80%EC%9E%85(list%2Ctuple).ipynb\" target=\"_parent\"><img src=\"https://colab.research.google.com/assets/colab-badge.svg\" alt=\"Open In Colab\"/></a>"
      ]
    },
    {
      "cell_type": "markdown",
      "metadata": {
        "id": "dqw8GzSKZSsN"
      },
      "source": [
        "# **학습목표**\n",
        "\n",
        "- 리스트(list)에 대해 이해하기\n",
        "- 튜플(tuple)에 대해 이해하기"
      ]
    },
    {
      "cell_type": "markdown",
      "metadata": {
        "id": "DHvWWXRmbOhs"
      },
      "source": [
        "### **리스트(list)와 튜플**\n",
        "- 여려 개의 값을 담을 수 있는 데이터 구조\n",
        "- list: 생성된 후에 변경이 가능\n",
        "- tuple:생성된 후에 변경이 불가능"
      ]
    },
    {
      "cell_type": "markdown",
      "metadata": {
        "id": "AyBmh1m1bM9V"
      },
      "source": [
        ""
      ]
    },
    {
      "cell_type": "code",
      "metadata": {
        "colab": {
          "base_uri": "https://localhost:8080/"
        },
        "id": "TxNZNaQbb07Q",
        "outputId": "41c53ea2-23fc-4ded-d369-2d5ac4d97091"
      },
      "source": [
        "#[]: 리스트, {}:딕셔너리 ():튜플\n",
        "a = [1,2,3,4,5]\n",
        "print(a)"
      ],
      "execution_count": 1,
      "outputs": [
        {
          "output_type": "stream",
          "name": "stdout",
          "text": [
            "[1, 2, 3, 4, 5]\n"
          ]
        }
      ]
    },
    {
      "cell_type": "code",
      "metadata": {
        "colab": {
          "base_uri": "https://localhost:8080/"
        },
        "id": "63wEIbP7c8PG",
        "outputId": "d23c972d-df1b-4531-fcd0-6f65faad7c9e"
      },
      "source": [
        "a = ['컴네', 'b','1', '학년',[10,20]]\n",
        "print(a)"
      ],
      "execution_count": 2,
      "outputs": [
        {
          "output_type": "stream",
          "name": "stdout",
          "text": [
            "['컴네', 'b', '1', '학년', [10, 20]]\n"
          ]
        }
      ]
    },
    {
      "cell_type": "code",
      "metadata": {
        "colab": {
          "base_uri": "https://localhost:8080/"
        },
        "id": "4yWNi4zcdWrU",
        "outputId": "53b5d060-bb60-4d62-bced-a8de46f5f145"
      },
      "source": [
        "a = \"hello comnet B!\"\n",
        "b = list(a)#list()함수로 리스트를 생성\n",
        "#리스트 함수는 다른타립(문자열 등)을  리스트로 변환할 때 사용\n",
        "\n",
        "print(b)\n",
        "print(len(b))\n",
        "c = a.split()#공백을 기준으로 리스트를 생성\n",
        "d = a.split('l')#()구분자룰 기준으로 리스트를 생성\n",
        "print(c)\n",
        "print(d)"
      ],
      "execution_count": 7,
      "outputs": [
        {
          "output_type": "stream",
          "name": "stdout",
          "text": [
            "['h', 'e', 'l', 'l', 'o', ' ', 'c', 'o', 'm', 'n', 'e', 't', ' ', 'B', '!']\n",
            "15\n",
            "['hello', 'comnet', 'B!']\n",
            "['he', '', 'o comnet B!']\n"
          ]
        }
      ]
    },
    {
      "cell_type": "markdown",
      "metadata": {
        "id": "pdWxWm-Pk6Kp"
      },
      "source": [
        "### **f리스트 인덱싱(indexing)**\n",
        "\n",
        "- [] 연산자를 이용해서 항목을 가져온다.\n",
        "- [i]:i번째 원소를 반환한다.\n",
        "- 만약,i 가 음수면 \n",
        "마지막 원소에서 -1로 하여 가져온다."
      ]
    },
    {
      "cell_type": "code",
      "metadata": {
        "colab": {
          "base_uri": "https://localhost:8080/"
        },
        "id": "CCDG-Q3mlmPQ",
        "outputId": "63fb3b4b-0df5-4b29-993a-355e7f41c543"
      },
      "source": [
        "a = [1,2,3,4,5,6,7,8,9,10]\n",
        "print(a[0], a[3], a[7],a[9])\n",
        "print(a[-1], a[-3], a [-10])\n",
        "#print(a[10], a[-11])"
      ],
      "execution_count": 11,
      "outputs": [
        {
          "output_type": "stream",
          "name": "stdout",
          "text": [
            "1 4 8 10\n",
            "10 8 1\n"
          ]
        }
      ]
    },
    {
      "cell_type": "code",
      "metadata": {
        "colab": {
          "base_uri": "https://localhost:8080/",
          "height": 136
        },
        "id": "X9NdBXHXl1N9",
        "outputId": "6c6eac2a-73fe-43fb-ef31-6e75fd068ef1"
      },
      "source": [
        "#리스트르의 인덱스를 이용해 업데이트\n",
        "a = [1,2,3,4,5,6,7,8,9,10]\n",
        "a[0] = 100\n",
        "a[-1] = 0\n",
        "primt(a)\n",
        "\n",
        "#문자열을 인덱스를 사용해 업데이트\n",
        "a = \"hello comnet B!\"\n",
        "b = a.replace('l'.'w')\n",
        "print(b)\n",
        "c = 'j'+ a[1:]\n",
        "print(c)"
      ],
      "execution_count": 18,
      "outputs": [
        {
          "output_type": "error",
          "ename": "SyntaxError",
          "evalue": "ignored",
          "traceback": [
            "\u001b[0;36m  File \u001b[0;32m\"<ipython-input-18-c68ed5f754d0>\"\u001b[0;36m, line \u001b[0;32m9\u001b[0m\n\u001b[0;31m    b = a.replace('l'.'w')\u001b[0m\n\u001b[0m                        ^\u001b[0m\n\u001b[0;31mSyntaxError\u001b[0m\u001b[0;31m:\u001b[0m invalid syntax\n"
          ]
        }
      ]
    },
    {
      "cell_type": "code",
      "metadata": {
        "id": "0V0868SvnPnx"
      },
      "source": [
        ""
      ],
      "execution_count": null,
      "outputs": []
    },
    {
      "cell_type": "markdown",
      "metadata": {
        "id": "3n5y6evcodhq"
      },
      "source": [
        "### **리스트 slicing**\n",
        "- 리스트를 슬라이싱한 결과도 역시 리스트\n",
        "- 슬라이싱 [시작:끝:증가값]"
      ]
    },
    {
      "cell_type": "code",
      "metadata": {
        "colab": {
          "base_uri": "https://localhost:8080/"
        },
        "id": "ptm7097Oo2De",
        "outputId": "ae78ffd2-d7d9-4c7c-9b9d-aa1385a1f01a"
      },
      "source": [
        "a = [1,2,3,4,5,6,7,8,9,10]\n",
        "print(a[3:7])\n",
        "print(a[:7])\n",
        "print(a[3:])\n",
        "print(a[::2])\n",
        "print(a[1::2])\n",
        "print(a[1:9:2])"
      ],
      "execution_count": 26,
      "outputs": [
        {
          "output_type": "stream",
          "name": "stdout",
          "text": [
            "[4, 5, 6, 7]\n",
            "[1, 2, 3, 4, 5, 6, 7]\n",
            "[4, 5, 6, 7, 8, 9, 10]\n",
            "[1, 3, 5, 7, 9]\n",
            "[2, 4, 6, 8, 10]\n",
            "[2, 4, 6, 8]\n"
          ]
        }
      ]
    },
    {
      "cell_type": "code",
      "metadata": {
        "id": "QRCdol0DpEsf"
      },
      "source": [
        ""
      ],
      "execution_count": null,
      "outputs": []
    },
    {
      "cell_type": "markdown",
      "metadata": {
        "id": "KUP0EeFkq8CJ"
      },
      "source": [
        "### **리스트 멤버 함수**\n",
        "- 생성된 리스트에 동작하는 함수\n",
        "- append() : 리스트 끝에다가 항목을 추가\n",
        "- extend() : 리스트를 연장(+=)\n",
        "- insert() : 원하는 위치에 추가 가능(위치,아이템)"
      ]
    },
    {
      "cell_type": "code",
      "metadata": {
        "colab": {
          "base_uri": "https://localhost:8080/"
        },
        "id": "8uKIzCH7rX6V",
        "outputId": "7d987aff-e79f-4464-dbb4-fd935e45b41f"
      },
      "source": [
        "a = [1,2,3,4,5]\n",
        "a.append(10)\n",
        "print(a)\n"
      ],
      "execution_count": 27,
      "outputs": [
        {
          "output_type": "stream",
          "name": "stdout",
          "text": [
            "[1, 2, 3, 4, 5, 10]\n"
          ]
        }
      ]
    },
    {
      "cell_type": "markdown",
      "metadata": {
        "id": "9YxoEsXmyj3H"
      },
      "source": [
        ""
      ]
    },
    {
      "cell_type": "code",
      "metadata": {
        "colab": {
          "base_uri": "https://localhost:8080/"
        },
        "id": "QK5IpPu9r0SQ",
        "outputId": "b8068145-62aa-4fae-bd55-001dab32d765"
      },
      "source": [
        "a = [11,12,13]\n",
        "#a.extend(b)\n",
        "a += b #extend\n",
        "print(a)\n"
      ],
      "execution_count": 28,
      "outputs": [
        {
          "output_type": "stream",
          "name": "stdout",
          "text": [
            "[11, 12, 13, 'h', 'e', 'l', 'l', 'o', ' ', 'c', 'o', 'm', 'n', 'e', 't', ' ', 'B', '!']\n"
          ]
        }
      ]
    },
    {
      "cell_type": "code",
      "metadata": {
        "colab": {
          "base_uri": "https://localhost:8080/"
        },
        "id": "_hizLA11sdxw",
        "outputId": "5160cacd-bd8f-47e2-e4c2-7b5a4144dfad"
      },
      "source": [
        "a = [1,2,3,4,5]\n",
        "a.insert(0,7)\n",
        "a.insert(1,6)\n",
        "print(a)"
      ],
      "execution_count": 30,
      "outputs": [
        {
          "output_type": "stream",
          "name": "stdout",
          "text": [
            "[7, 6, 1, 2, 3, 4, 5]\n"
          ]
        }
      ]
    },
    {
      "cell_type": "code",
      "metadata": {
        "id": "6WWEBq9HstO_"
      },
      "source": [
        ""
      ],
      "execution_count": null,
      "outputs": []
    },
    {
      "cell_type": "markdown",
      "metadata": {
        "id": "1eCLpIkUyk8t"
      },
      "source": [
        " - remove(:값으로 항목을 삭제\n",
        " - pop():.지우고자 하는 인덱스의 아이템을 반환 후 삭제\n",
        " - index() : 찾고자하는 값의 인덱스 값을 반환"
      ]
    },
    {
      "cell_type": "code",
      "metadata": {
        "colab": {
          "base_uri": "https://localhost:8080/"
        },
        "id": "y1qRAKS5yvXo",
        "outputId": "90ef1021-cda6-4a6a-adf3-b05eb372ca51"
      },
      "source": [
        "a =[10,20,30,40,50]\n",
        "a.remove(10)\n",
        "print (a)"
      ],
      "execution_count": 31,
      "outputs": [
        {
          "output_type": "stream",
          "name": "stdout",
          "text": [
            "[20, 30, 40, 50]\n"
          ]
        }
      ]
    },
    {
      "cell_type": "code",
      "metadata": {
        "colab": {
          "base_uri": "https://localhost:8080/"
        },
        "id": "3gM4rfwOzUQL",
        "outputId": "04d0dd53-31de-46f8-f13b-aed4667e4b5d"
      },
      "source": [
        "a = [10,20,30,40,50]\n",
        "b = a.pop(0)\n",
        "print(b)\n",
        "print(a)"
      ],
      "execution_count": 32,
      "outputs": [
        {
          "output_type": "stream",
          "name": "stdout",
          "text": [
            "10\n",
            "[20, 30, 40, 50]\n"
          ]
        }
      ]
    },
    {
      "cell_type": "code",
      "metadata": {
        "colab": {
          "base_uri": "https://localhost:8080/"
        },
        "id": "yEEPFTtBzyB9",
        "outputId": "4eaf042a-c504-4339-8bd5-5ee227061b4c"
      },
      "source": [
        "a = [10,20,30,40,50]\n",
        "print(a.index(40))\n",
        "\n",
        "b = \"Hello!\"\n",
        "print(b.index('l'))"
      ],
      "execution_count": 34,
      "outputs": [
        {
          "output_type": "stream",
          "name": "stdout",
          "text": [
            "3\n",
            "2\n"
          ]
        }
      ]
    },
    {
      "cell_type": "code",
      "metadata": {
        "id": "viYBwp-Zz7ks"
      },
      "source": [
        ""
      ],
      "execution_count": null,
      "outputs": []
    },
    {
      "cell_type": "markdown",
      "metadata": {
        "id": "Mn2z2nxC0R0m"
      },
      "source": [
        "### **in 키워드**\n",
        "- 리스트에 해당 값이 존재하는지\n",
        "- True, False 중 한가지로 반환\n",
        "\n",
        "- 값 in[list]\n"
      ]
    },
    {
      "cell_type": "code",
      "metadata": {
        "colab": {
          "base_uri": "https://localhost:8080/"
        },
        "id": "mn7zhXXd0t9M",
        "outputId": "bcd4a9fc-ddf3-4795-c60e-e5aaf75dc326"
      },
      "source": [
        "a = [1,2,3,4,5,6,7,8]\n",
        "b = 5\n",
        "c = 10\n",
        "print(b in a)\n",
        "print(c in a)"
      ],
      "execution_count": 35,
      "outputs": [
        {
          "output_type": "stream",
          "name": "stdout",
          "text": [
            "True\n",
            "False\n"
          ]
        }
      ]
    },
    {
      "cell_type": "code",
      "metadata": {
        "id": "LF_-HW0c0_dD"
      },
      "source": [
        ""
      ],
      "execution_count": null,
      "outputs": []
    },
    {
      "cell_type": "markdown",
      "metadata": {
        "id": "9X6I0Rxo1ppW"
      },
      "source": [
        "### **list 정렬**\n",
        "- sort() : 리스트 자ㅣ체를 내부적으로 정렬\n",
        "- sorted(): 정렬된 리스트의 복사본을 저장"
      ]
    },
    {
      "cell_type": "code",
      "metadata": {
        "colab": {
          "base_uri": "https://localhost:8080/"
        },
        "id": "Zof6nCzJ193j",
        "outputId": "7a1f18cd-65cb-4d7a-9f7e-94a308bcf576"
      },
      "source": [
        "a = [1,4,6,45,42,7,7,56,4,3,6,78,8,5,2,4]\n",
        "a.sort()\n",
        "print(a)\n",
        "a.sort(reverse=True)\n",
        "print(a)"
      ],
      "execution_count": 36,
      "outputs": [
        {
          "output_type": "stream",
          "name": "stdout",
          "text": [
            "[1, 2, 3, 4, 4, 4, 5, 6, 6, 7, 7, 8, 42, 45, 56, 78]\n",
            "[78, 56, 45, 42, 8, 7, 7, 6, 6, 5, 4, 4, 4, 3, 2, 1]\n"
          ]
        }
      ]
    },
    {
      "cell_type": "code",
      "metadata": {
        "colab": {
          "base_uri": "https://localhost:8080/"
        },
        "id": "oLmca3CW2Wub",
        "outputId": "6534bf42-82ff-4f1f-fab9-e7d328ecd602"
      },
      "source": [
        "a = [1,4,6,45,42,7,7,56,4,3,6,78,8,5,2,4]\n",
        "b = sorted(a)\n",
        "print(b)\n",
        "print(a)\n",
        "\n",
        "#a,sort()\n",
        "#print(a)\n",
        "#a.sort(reverse=True)\n",
        "#print(a)"
      ],
      "execution_count": 37,
      "outputs": [
        {
          "output_type": "stream",
          "name": "stdout",
          "text": [
            "[1, 2, 3, 4, 4, 4, 5, 6, 6, 7, 7, 8, 42, 45, 56, 78]\n",
            "[1, 4, 6, 45, 42, 7, 7, 56, 4, 3, 6, 78, 8, 5, 2, 4]\n"
          ]
        }
      ]
    },
    {
      "cell_type": "code",
      "metadata": {
        "id": "GfqPRApD3KGz"
      },
      "source": [
        ""
      ],
      "execution_count": null,
      "outputs": []
    },
    {
      "cell_type": "markdown",
      "metadata": {
        "id": "KaB4TCKb3Mtd"
      },
      "source": [
        "### **튜플**\n",
        "\n",
        "- 리스트와 같이 여러개의 값을 갖는 데이터 컬렉션 타입\n",
        "- 생성된 후에는 변경이 불가능"
      ]
    },
    {
      "cell_type": "code",
      "metadata": {
        "colab": {
          "base_uri": "https://localhost:8080/"
        },
        "id": "28T8e7Co3hKy",
        "outputId": "fdb8ec6a-3b6c-4544-eba7-fcd3af2f3fce"
      },
      "source": [
        "a =[1,2,3]\n",
        "b = (1,2,3)\n",
        "print(type(a))\n",
        "print(type(b))\n",
        "\n",
        "a[0] = 100\n",
        "print (a)\n",
        "# b[0] = 100"
      ],
      "execution_count": 39,
      "outputs": [
        {
          "output_type": "stream",
          "name": "stdout",
          "text": [
            "<class 'list'>\n",
            "<class 'tuple'>\n",
            "[100, 2, 3]\n"
          ]
        }
      ]
    },
    {
      "cell_type": "code",
      "metadata": {
        "colab": {
          "base_uri": "https://localhost:8080/"
        },
        "id": "mFwqbQJl37c1",
        "outputId": "9f77ae42-5001-4806-d341-3ac3b0a1171d"
      },
      "source": [
        "a,b,c,d = 10,20,30,40\n",
        "print(a,b,c,d)"
      ],
      "execution_count": 38,
      "outputs": [
        {
          "output_type": "stream",
          "name": "stdout",
          "text": [
            "10 20 30 40\n"
          ]
        }
      ]
    },
    {
      "cell_type": "code",
      "metadata": {
        "id": "i5OrhID14ExT"
      },
      "source": [
        "a = 5\n",
        "b = 4\n",
        "\n",
        "#문제! a,b 값을 교환하시오!\n",
        "\n",
        "#temp a\n",
        "#b = a\n",
        "#a = temp\n",
        "a,b = b,a"
      ],
      "execution_count": 42,
      "outputs": []
    },
    {
      "cell_type": "code",
      "metadata": {
        "id": "kXkCp7Py5OZq"
      },
      "source": [
        ""
      ],
      "execution_count": null,
      "outputs": []
    }
  ]
}