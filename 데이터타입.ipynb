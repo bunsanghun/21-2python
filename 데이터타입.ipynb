{
  "nbformat": 4,
  "nbformat_minor": 0,
  "metadata": {
    "colab": {
      "name": "데이터타입",
      "provenance": [],
      "authorship_tag": "ABX9TyOhEoPmcI62hS5tQAl40ndc",
      "include_colab_link": true
    },
    "kernelspec": {
      "name": "python3",
      "display_name": "Python 3"
    },
    "language_info": {
      "name": "python"
    }
  },
  "cells": [
    {
      "cell_type": "markdown",
      "metadata": {
        "id": "view-in-github",
        "colab_type": "text"
      },
      "source": [
        "<a href=\"https://colab.research.google.com/github/bunsanghun/21-2python/blob/main/%EB%8D%B0%EC%9D%B4%ED%84%B0%ED%83%80%EC%9E%85.ipynb\" target=\"_parent\"><img src=\"https://colab.research.google.com/assets/colab-badge.svg\" alt=\"Open In Colab\"/></a>"
      ]
    },
    {
      "cell_type": "code",
      "metadata": {
        "id": "uCDYXbWSsFUp"
      },
      "source": [
        ""
      ],
      "execution_count": null,
      "outputs": []
    },
    {
      "cell_type": "markdown",
      "metadata": {
        "id": "5guCprEctmNo"
      },
      "source": [
        "## **학습목표**\n",
        "- dictionary,set에 대해 이해하기"
      ]
    },
    {
      "cell_type": "code",
      "metadata": {
        "id": "bwDokcDItxtx"
      },
      "source": [
        ""
      ],
      "execution_count": null,
      "outputs": []
    },
    {
      "cell_type": "markdown",
      "metadata": {
        "id": "Ca8uh6tUt_qH"
      },
      "source": [
        " **Dictionary**\n",
        " - 키와 값을 갖는 데이터 구조\n",
        " - 키는 내부적으로 hash값으로 저장\n",
        " - 순서를 따지지 않음."
      ]
    },
    {
      "cell_type": "code",
      "metadata": {
        "colab": {
          "base_uri": "https://localhost:8080/"
        },
        "id": "f9qqumI9u0eM",
        "outputId": "be4c0fc7-cef9-4316-c0ee-c4b49ea29045"
      },
      "source": [
        "a = {'Korea':'Seoul',\n",
        "     'Canada':'Ottawa',\n",
        "     'USA': 'WashingtonD.C'}\n",
        "b ={0:1, 1:6, 7:9, 8:10}\n",
        "\n",
        "print(a)\n",
        "print(a['Korea'])\n",
        "#print(a['japen'])\n",
        "print(b[1])\n",
        "print(b[0])"
      ],
      "execution_count": 2,
      "outputs": [
        {
          "output_type": "stream",
          "name": "stdout",
          "text": [
            "{'Korea': 'Seoul', 'Canada': 'Ottawa', 'USA': 'WashingtonD.C'}\n",
            "Seoul\n",
            "6\n",
            "1\n"
          ]
        }
      ]
    },
    {
      "cell_type": "code",
      "metadata": {
        "id": "y_ALmHFUv2Su"
      },
      "source": [
        ""
      ],
      "execution_count": null,
      "outputs": []
    },
    {
      "cell_type": "markdown",
      "metadata": {
        "id": "XMd7fYo4wB0o"
      },
      "source": [
        "### **항목 추가 및 변경**\n",
        "- 기존에 키가 존재하면, 새로운 값으로 업데이트\n",
        "- 기존에 키가 없다면, 새로운 키값으로 생성"
      ]
    },
    {
      "cell_type": "markdown",
      "metadata": {
        "id": "GWQCNXCSwlAW"
      },
      "source": [
        ""
      ]
    },
    {
      "cell_type": "code",
      "metadata": {
        "colab": {
          "base_uri": "https://localhost:8080/"
        },
        "id": "OnanhTYjwYon",
        "outputId": "e7feecc2-2d47-4374-d221-093b43ba1b6d"
      },
      "source": [
        "a['japen'] = 'Tokyo'\n",
        "print(a)\n",
        "a['japen'] = 'Osaka'\n",
        "a['Chaina'] = 'Beijng'\n",
        "print(a)"
      ],
      "execution_count": 3,
      "outputs": [
        {
          "output_type": "stream",
          "name": "stdout",
          "text": [
            "{'Korea': 'Seoul', 'Canada': 'Ottawa', 'USA': 'WashingtonD.C', 'japen': 'Tokyo'}\n",
            "{'Korea': 'Seoul', 'Canada': 'Ottawa', 'USA': 'WashingtonD.C', 'japen': 'Osaka', 'Chaina': 'Beijng'}\n"
          ]
        }
      ]
    },
    {
      "cell_type": "code",
      "metadata": {
        "id": "6z0HSpNUw2Mn"
      },
      "source": [
        ""
      ],
      "execution_count": null,
      "outputs": []
    },
    {
      "cell_type": "markdown",
      "metadata": {
        "id": "PBc1sgEPxCo4"
      },
      "source": [
        "- update(\n",
        "   - 두 딕셔너리를 병합\n",
        "   - 겹치는ㄴ 키가 있다면, 전달되는 값이 업데이트된다."
      ]
    },
    {
      "cell_type": "code",
      "metadata": {
        "colab": {
          "base_uri": "https://localhost:8080/"
        },
        "id": "2n-gnQx8xT1F",
        "outputId": "3d91cb2c-7ec7-4c84-a12d-de7d523aa8aa"
      },
      "source": [
        "a = {'a':'apple', 'b':'banana', 'c':'car'}\n",
        "b = {'b':'bus', 'c':'caramel','d':'dynamite', 'e':'education'}\n",
        "print(a)\n",
        "a.update(b) #a와 b병합\n",
        "print(a)"
      ],
      "execution_count": 6,
      "outputs": [
        {
          "output_type": "stream",
          "name": "stdout",
          "text": [
            "{'a': 'apple', 'b': 'banana', 'c': 'car'}\n",
            "{'a': 'apple', 'b': 'bus', 'c': 'caramel', 'd': 'dynamite', 'e': 'education'}\n"
          ]
        }
      ]
    },
    {
      "cell_type": "code",
      "metadata": {
        "id": "y4daoGtMybPg"
      },
      "source": [
        ""
      ],
      "execution_count": null,
      "outputs": []
    },
    {
      "cell_type": "markdown",
      "metadata": {
        "id": "F2mdW3LS5WpV"
      },
      "source": [
        "**key삭제**\n",
        "- del 키워드\n",
        "- pop 함수 이동"
      ]
    },
    {
      "cell_type": "code",
      "metadata": {
        "colab": {
          "base_uri": "https://localhost:8080/"
        },
        "id": "9dbn0pFg5h6W",
        "outputId": "b95c6c46-0078-4f7e-ee62-69b95926ee12"
      },
      "source": [
        "a = {'a':1, 'b':2, 'c':3}\n",
        "print(a)\n",
        "\n",
        "del a['a']\n",
        "print(a)\n",
        "\n",
        "c = a.pop('b')\n",
        "print(c)"
      ],
      "execution_count": 7,
      "outputs": [
        {
          "output_type": "stream",
          "name": "stdout",
          "text": [
            "{'a': 1, 'b': 2, 'c': 3}\n",
            "{'b': 2, 'c': 3}\n",
            "2\n"
          ]
        }
      ]
    },
    {
      "cell_type": "code",
      "metadata": {
        "id": "oodD3Sfe5_mV"
      },
      "source": [
        ""
      ],
      "execution_count": null,
      "outputs": []
    },
    {
      "cell_type": "markdown",
      "metadata": {
        "id": "0r8nyfKB9VWN"
      },
      "source": [
        "**clear()**\n",
        "- 딕셔너리 값을 모두 초기화"
      ]
    },
    {
      "cell_type": "code",
      "metadata": {
        "colab": {
          "base_uri": "https://localhost:8080/"
        },
        "id": "DdZawufb9fxj",
        "outputId": "05f914f2-423f-4bc9-d4d9-d28cd41404d6"
      },
      "source": [
        "a = {'a':1, 'b':2, 'c':3}\n",
        "a['add'] = 4\n",
        "print(a)\n",
        "a.clear()\n",
        "print(a)"
      ],
      "execution_count": 11,
      "outputs": [
        {
          "output_type": "stream",
          "name": "stdout",
          "text": [
            "{'a': 1, 'b': 2, 'c': 3, 'add': 4}\n",
            "{}\n"
          ]
        }
      ]
    },
    {
      "cell_type": "code",
      "metadata": {
        "id": "GImTnCtz9tEs"
      },
      "source": [
        ""
      ],
      "execution_count": null,
      "outputs": []
    },
    {
      "cell_type": "markdown",
      "metadata": {
        "id": "c9mvJwle92YF"
      },
      "source": [
        "**in**\n",
        "- key값의 존재를 확인"
      ]
    },
    {
      "cell_type": "code",
      "metadata": {
        "colab": {
          "base_uri": "https://localhost:8080/"
        },
        "id": "Nlgwpkkl-BHa",
        "outputId": "80ef8a29-300c-4d96-94e0-97cb14dd3e00"
      },
      "source": [
        "a = {'a':1, 'b':2, 'c':3}\n",
        "print(2 in a)\n",
        "print('a' in a)"
      ],
      "execution_count": 12,
      "outputs": [
        {
          "output_type": "stream",
          "name": "stdout",
          "text": [
            "False\n",
            "True\n"
          ]
        }
      ]
    },
    {
      "cell_type": "markdown",
      "metadata": {
        "id": "kGvR4BYt-S69"
      },
      "source": [
        "- dict[key]로 접근, 키가 존재하지 안을 경우 에러\n",
        "- get()함수로 접근해서 키가 없는 경우에도 프로그램을 실행->None"
      ]
    },
    {
      "cell_type": "code",
      "metadata": {
        "colab": {
          "base_uri": "https://localhost:8080/"
        },
        "id": "0AnmWged-sms",
        "outputId": "85aaf3f7-2238-4465-ae0d-9ea73ab4b387"
      },
      "source": [
        "a = {'a':1, 'b':2, 'c':3}\n",
        "print(a['a'])\n",
        "print(a.get('d'))"
      ],
      "execution_count": 13,
      "outputs": [
        {
          "output_type": "stream",
          "name": "stdout",
          "text": [
            "1\n",
            "None\n"
          ]
        }
      ]
    },
    {
      "cell_type": "code",
      "metadata": {
        "id": "SbRM2lJq-_BU"
      },
      "source": [
        ""
      ],
      "execution_count": null,
      "outputs": []
    },
    {
      "cell_type": "markdown",
      "metadata": {
        "id": "3jGJeP4-_DYY"
      },
      "source": [
        ""
      ]
    },
    {
      "cell_type": "markdown",
      "metadata": {
        "id": "6fr2mNfl_Dae"
      },
      "source": [
        "**모든 key와 값에 접근**\n",
        "- key():키만 반환\n",
        "- values() : 값만 반환\n",
        "- items():키와 값의 튜플을 반환"
      ]
    },
    {
      "cell_type": "code",
      "metadata": {
        "colab": {
          "base_uri": "https://localhost:8080/"
        },
        "id": "EE07v9En_sbc",
        "outputId": "aadffb8f-8676-42c8-dc43-52c9d66982a9"
      },
      "source": [
        "a = {'a':1, 'b':2, 'c':3}\n",
        "print(a)\n",
        "print(list(a.keys()))\n",
        "print(list(a.values()))\n",
        "print(list(a.items()))"
      ],
      "execution_count": 15,
      "outputs": [
        {
          "output_type": "stream",
          "name": "stdout",
          "text": [
            "{'a': 1, 'b': 2, 'c': 3}\n",
            "['a', 'b', 'c']\n",
            "[1, 2, 3]\n",
            "[('a', 1), ('b', 2), ('c', 3)]\n"
          ]
        }
      ]
    },
    {
      "cell_type": "code",
      "metadata": {
        "id": "HY2CN_loAECk"
      },
      "source": [
        ""
      ],
      "execution_count": null,
      "outputs": []
    },
    {
      "cell_type": "markdown",
      "metadata": {
        "id": "SLm3LK6ZGItA"
      },
      "source": [
        "### **set**\n",
        "- dictionary에서 key만 활욜한 데이터 구조\n",
        "- 중복이 허용되지 않는 구조\n",
        "\n"
      ]
    },
    {
      "cell_type": "code",
      "metadata": {
        "colab": {
          "base_uri": "https://localhost:8080/"
        },
        "id": "1SOmM8E2Ggdl",
        "outputId": "c2ac7a0e-3dc5-4b23-9b46-a8d37f550752"
      },
      "source": [
        "a = {5,2,3,2,6,4,1,2,3,3}\n",
        "print(a)"
      ],
      "execution_count": 16,
      "outputs": [
        {
          "output_type": "stream",
          "name": "stdout",
          "text": [
            "{1, 2, 3, 4, 5, 6}\n"
          ]
        }
      ]
    },
    {
      "cell_type": "code",
      "metadata": {
        "colab": {
          "base_uri": "https://localhost:8080/"
        },
        "id": "EqZITmkjGszF",
        "outputId": "9379dd70-df39-4266-eb7b-3b3097c9ea46"
      },
      "source": [
        "#리스트를 Set으로 변경\n",
        "a = [5,2,3,2,6,4,1,2,3,3,]\n",
        "print(a)\n",
        "\n",
        "b = set(a)\n",
        "print(b)"
      ],
      "execution_count": 17,
      "outputs": [
        {
          "output_type": "stream",
          "name": "stdout",
          "text": [
            "[5, 2, 3, 2, 6, 4, 1, 2, 3, 3]\n",
            "{1, 2, 3, 4, 5, 6}\n"
          ]
        }
      ]
    },
    {
      "cell_type": "code",
      "metadata": {
        "colab": {
          "base_uri": "https://localhost:8080/"
        },
        "id": "aAlbhu02HCys",
        "outputId": "5f485cb2-2223-42c4-fb4a-f14b4c6bafb2"
      },
      "source": [
        "a = {1,2,3}\n",
        "b = {2,3,4}\n",
        "\n",
        "c = a.union(b) #합집합\n",
        "print(c)\n",
        "d = a.intersection(b) #교집합\n",
        "print(d)\n",
        "e = a.difference(b) #A-B 차집합\n",
        "print(e)\n",
        "                   "
      ],
      "execution_count": 19,
      "outputs": [
        {
          "output_type": "stream",
          "name": "stdout",
          "text": [
            "{1, 2, 3, 4}\n",
            "{2, 3}\n",
            "{1}\n"
          ]
        }
      ]
    },
    {
      "cell_type": "code",
      "metadata": {
        "id": "5PJhgs1fH7qG"
      },
      "source": [
        ""
      ],
      "execution_count": null,
      "outputs": []
    }
  ]
}